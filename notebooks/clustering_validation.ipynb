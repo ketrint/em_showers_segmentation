{
 "cells": [
  {
   "cell_type": "code",
   "execution_count": 2,
   "metadata": {},
   "outputs": [],
   "source": [
    "from comet_ml import API\n",
    "import comet_ml\n",
    "import io\n",
    "import os\n",
    "import numpy as np\n",
    "import matplotlib.pyplot as plt\n",
    "import pandas as pd\n",
    "import seaborn as sns\n",
    "from collections import defaultdict\n",
    "import time\n",
    "\n",
    "\n",
    "from matplotlib.patches import Rectangle\n",
    "from matplotlib.lines import Line2D\n",
    "from colour import Color\n",
    "\n"
   ]
  },
  {
   "cell_type": "code",
   "execution_count": 3,
   "metadata": {},
   "outputs": [
    {
     "data": {
      "text/plain": [
       "['ketrint']"
      ]
     },
     "execution_count": 3,
     "metadata": {},
     "output_type": "execute_result"
    }
   ],
   "source": [
    "comet_api = API(api_key='YOUR KEY')\n",
    "comet_api.get()"
   ]
  },
  {
   "cell_type": "code",
   "execution_count": 4,
   "metadata": {},
   "outputs": [],
   "source": [
    "def get_parameter_by_key(exp, key):\n",
    "    parameters = exp.get_parameters_summary()\n",
    "    for parameter in parameters:\n",
    "        if parameter['name'] == key:\n",
    "            return parameter['valueCurrent']\n"
   ]
  },
  {
   "cell_type": "code",
   "execution_count": 5,
   "metadata": {},
   "outputs": [],
   "source": [
    "def get_parameter_by_key(exp, key):\n",
    "    parameters = exp.get_parameters_summary()\n",
    "    for parameter in parameters:\n",
    "        if parameter['name'] == key:\n",
    "            return parameter['valueCurrent']\n",
    "    return None\n",
    "\n",
    "def new_to_old_metric(exp, key):\n",
    "    metric = exp.get_metrics(key)\n",
    "    vals = [float(m['metricValue']) for m in metric]\n",
    "    return vals\n",
    "\n",
    "def stack_lists(data, n=1000):\n",
    "    new_data = []\n",
    "    for d in data:\n",
    "        if len(d) > n:\n",
    "            new_data.append(d[:n])\n",
    "        elif len(d) < n:\n",
    "            new_data.append(\n",
    "                np.concatenate([d, d[-1].repeat(n - len(d))])\n",
    "            )\n",
    "    return np.vstack(new_data).T\n",
    "\n",
    "def preprocess_gp(vals):\n",
    "    return np.minimum.accumulate(vals)\n",
    "\n",
    "def add_zero_point(vals, point):\n",
    "    return np.array([point] + vals.tolist())"
   ]
  },
  {
   "cell_type": "code",
   "execution_count": 25,
   "metadata": {},
   "outputs": [],
   "source": [
    "experiments_names = ['val-clustering', 'val-clustering-2',\n",
    "                     'val-clustering-3']"
   ]
  },
  {
   "cell_type": "code",
   "execution_count": 72,
   "metadata": {},
   "outputs": [],
   "source": [
    "experiments = []\n",
    "for i in range(len(experiments_names)):\n",
    "    experiments.append(comet_api.get(workspace='ketrint', project_name=experiments_names[i]))"
   ]
  },
  {
   "cell_type": "code",
   "execution_count": 73,
   "metadata": {},
   "outputs": [],
   "source": [
    "experiments = [item for sublist in experiments for item in sublist]"
   ]
  },
  {
   "cell_type": "code",
   "execution_count": 261,
   "metadata": {},
   "outputs": [],
   "source": [
    "from collections import defaultdict\n",
    "\n",
    "good_showers = defaultdict(list)\n",
    "stuck_showers = defaultdict(list)\n",
    "broken_showers = defaultdict(list)\n",
    "lost_showers = defaultdict(list)\n",
    "x = defaultdict(list)\n",
    "y = defaultdict(list)\n",
    "z = defaultdict(list)\n",
    "tx = defaultdict(list)\n",
    "ty = defaultdict(list)\n",
    "\n",
    "for exp in experiments:\n",
    "    if exp.get_command()[2] == '../data/rand_preprocessed.pt':\n",
    "        key = exp.get_command()[-1].split('/')[-1].split('_')[2].split('.')[0]\n",
    "        if key == 'HDBBSCAN':\n",
    "            key = 'HDBSCAN'\n",
    "        good_showers[key].append(new_to_old_metric(exp, \"Good showers\")[0])\n",
    "        stuck_showers[key].append(new_to_old_metric(exp, \"Stuck showers\"))\n",
    "        broken_showers[key].append(new_to_old_metric(exp, \"Broken showers\"))\n",
    "        lost_showers[key].append(new_to_old_metric(exp, \"Lost showers\"))\n",
    "        x[key].append(new_to_old_metric(exp, \"MAE for x\"))\n",
    "        y[key].append(new_to_old_metric(exp,  \"MAE for y\"))\n",
    "        z[key].append(new_to_old_metric(exp, \"MAE for z\"))\n",
    "        tx[key].append(new_to_old_metric(exp, \"MAE for tx\"))\n",
    "        ty[key].append(new_to_old_metric(exp, \"MAE for ty\"))"
   ]
  },
  {
   "cell_type": "code",
   "execution_count": 262,
   "metadata": {},
   "outputs": [],
   "source": [
    "dict_list = [good_showers, stuck_showers, \n",
    "                   broken_showers, lost_showers, \n",
    "                   x, y, z, tx, ty]"
   ]
  },
  {
   "cell_type": "code",
   "execution_count": 263,
   "metadata": {},
   "outputs": [],
   "source": [
    "dict_names = ['good_showers', 'stuck_showers', \n",
    "                   'broken_showers', 'lost_showers', \n",
    "                   'MAE for x', 'MAE for y', 'MAE for z', 'MAE for tx', 'MAE for ty']"
   ]
  },
  {
   "cell_type": "code",
   "execution_count": 264,
   "metadata": {},
   "outputs": [],
   "source": [
    "#fix problems with spilling the keys names \n",
    "\n",
    "for dictionary in dict_list:\n",
    "    dictionary['edge']. append(dictionary['RAND'][1])\n",
    "    del dictionary['RAND'][1]"
   ]
  },
  {
   "cell_type": "code",
   "execution_count": 265,
   "metadata": {},
   "outputs": [],
   "source": [
    "for dictionary in dict_list:\n",
    "    for key in dictionary: \n",
    "        dictionary[key] = [np.round(np.mean(dictionary[key])*100,2), \n",
    "                           np.round(np.std(dictionary[key]/np.mean(dictionary[key]))*100, 4)]"
   ]
  },
  {
   "cell_type": "code",
   "execution_count": 266,
   "metadata": {},
   "outputs": [],
   "source": [
    "df = pd.DataFrame.from_dict(dict_list)"
   ]
  },
  {
   "cell_type": "code",
   "execution_count": 267,
   "metadata": {},
   "outputs": [],
   "source": [
    "df = df.assign(Metric = dict_names)"
   ]
  },
  {
   "cell_type": "code",
   "execution_count": 268,
   "metadata": {},
   "outputs": [],
   "source": [
    "df = df.set_index('Metric') "
   ]
  },
  {
   "cell_type": "code",
   "execution_count": 269,
   "metadata": {},
   "outputs": [
    {
     "data": {
      "text/html": [
       "<div>\n",
       "<style scoped>\n",
       "    .dataframe tbody tr th:only-of-type {\n",
       "        vertical-align: middle;\n",
       "    }\n",
       "\n",
       "    .dataframe tbody tr th {\n",
       "        vertical-align: top;\n",
       "    }\n",
       "\n",
       "    .dataframe thead th {\n",
       "        text-align: right;\n",
       "    }\n",
       "</style>\n",
       "<table border=\"1\" class=\"dataframe\">\n",
       "  <thead>\n",
       "    <tr style=\"text-align: right;\">\n",
       "      <th></th>\n",
       "      <th>HDBSCAN</th>\n",
       "      <th>edge</th>\n",
       "      <th>RAND</th>\n",
       "      <th>em</th>\n",
       "    </tr>\n",
       "    <tr>\n",
       "      <th>Metric</th>\n",
       "      <th></th>\n",
       "      <th></th>\n",
       "      <th></th>\n",
       "      <th></th>\n",
       "    </tr>\n",
       "  </thead>\n",
       "  <tbody>\n",
       "    <tr>\n",
       "      <th>good_showers</th>\n",
       "      <td>[71.45, 7.3211]</td>\n",
       "      <td>[77.83, 1.5734]</td>\n",
       "      <td>[82.52, 0.8876]</td>\n",
       "      <td>[82.15, 0.8735]</td>\n",
       "    </tr>\n",
       "    <tr>\n",
       "      <th>stuck_showers</th>\n",
       "      <td>[19.49, 33.6242]</td>\n",
       "      <td>[13.09, 10.9267]</td>\n",
       "      <td>[8.42, 22.2931]</td>\n",
       "      <td>[5.72, 10.0036]</td>\n",
       "    </tr>\n",
       "    <tr>\n",
       "      <th>broken_showers</th>\n",
       "      <td>[2.06, 24.0093]</td>\n",
       "      <td>[1.02, 4.3849]</td>\n",
       "      <td>[1.2, 14.0249]</td>\n",
       "      <td>[1.16, 11.0564]</td>\n",
       "    </tr>\n",
       "    <tr>\n",
       "      <th>lost_showers</th>\n",
       "      <td>[7.01, 27.3026]</td>\n",
       "      <td>[8.06, 15.8995]</td>\n",
       "      <td>[7.87, 20.465]</td>\n",
       "      <td>[10.98, 3.2215]</td>\n",
       "    </tr>\n",
       "    <tr>\n",
       "      <th>MAE for x</th>\n",
       "      <td>[30.8, 0.7487]</td>\n",
       "      <td>[30.98, 0.5454]</td>\n",
       "      <td>[31.0, 0.3728]</td>\n",
       "      <td>[31.04, 0.439]</td>\n",
       "    </tr>\n",
       "    <tr>\n",
       "      <th>MAE for y</th>\n",
       "      <td>[24.26, 0.5261]</td>\n",
       "      <td>[24.32, 0.4381]</td>\n",
       "      <td>[24.35, 0.6839]</td>\n",
       "      <td>[24.39, 0.5451]</td>\n",
       "    </tr>\n",
       "    <tr>\n",
       "      <th>MAE for z</th>\n",
       "      <td>[20.46, 1.4009]</td>\n",
       "      <td>[20.89, 0.4399]</td>\n",
       "      <td>[20.84, 0.7055]</td>\n",
       "      <td>[20.9, 0.63]</td>\n",
       "    </tr>\n",
       "    <tr>\n",
       "      <th>MAE for tx</th>\n",
       "      <td>[1.31, 12.6122]</td>\n",
       "      <td>[1.18, 2.5696]</td>\n",
       "      <td>[1.27, 8.5891]</td>\n",
       "      <td>[1.09, 3.8994]</td>\n",
       "    </tr>\n",
       "    <tr>\n",
       "      <th>MAE for ty</th>\n",
       "      <td>[1.25, 6.4473]</td>\n",
       "      <td>[1.18, 1.442]</td>\n",
       "      <td>[1.23, 6.0274]</td>\n",
       "      <td>[1.11, 2.6425]</td>\n",
       "    </tr>\n",
       "  </tbody>\n",
       "</table>\n",
       "</div>"
      ],
      "text/plain": [
       "                         HDBSCAN              edge             RAND  \\\n",
       "Metric                                                                \n",
       "good_showers     [71.45, 7.3211]   [77.83, 1.5734]  [82.52, 0.8876]   \n",
       "stuck_showers   [19.49, 33.6242]  [13.09, 10.9267]  [8.42, 22.2931]   \n",
       "broken_showers   [2.06, 24.0093]    [1.02, 4.3849]   [1.2, 14.0249]   \n",
       "lost_showers     [7.01, 27.3026]   [8.06, 15.8995]   [7.87, 20.465]   \n",
       "MAE for x         [30.8, 0.7487]   [30.98, 0.5454]   [31.0, 0.3728]   \n",
       "MAE for y        [24.26, 0.5261]   [24.32, 0.4381]  [24.35, 0.6839]   \n",
       "MAE for z        [20.46, 1.4009]   [20.89, 0.4399]  [20.84, 0.7055]   \n",
       "MAE for tx       [1.31, 12.6122]    [1.18, 2.5696]   [1.27, 8.5891]   \n",
       "MAE for ty        [1.25, 6.4473]     [1.18, 1.442]   [1.23, 6.0274]   \n",
       "\n",
       "                             em  \n",
       "Metric                           \n",
       "good_showers    [82.15, 0.8735]  \n",
       "stuck_showers   [5.72, 10.0036]  \n",
       "broken_showers  [1.16, 11.0564]  \n",
       "lost_showers    [10.98, 3.2215]  \n",
       "MAE for x        [31.04, 0.439]  \n",
       "MAE for y       [24.39, 0.5451]  \n",
       "MAE for z          [20.9, 0.63]  \n",
       "MAE for tx       [1.09, 3.8994]  \n",
       "MAE for ty       [1.11, 2.6425]  "
      ]
     },
     "execution_count": 269,
     "metadata": {},
     "output_type": "execute_result"
    }
   ],
   "source": [
    "df"
   ]
  },
  {
   "cell_type": "code",
   "execution_count": null,
   "metadata": {},
   "outputs": [],
   "source": []
  }
 ],
 "metadata": {
  "kernelspec": {
   "display_name": "Python 3",
   "language": "python",
   "name": "python3"
  },
  "language_info": {
   "codemirror_mode": {
    "name": "ipython",
    "version": 3
   },
   "file_extension": ".py",
   "mimetype": "text/x-python",
   "name": "python",
   "nbconvert_exporter": "python",
   "pygments_lexer": "ipython3",
   "version": "3.8.3"
  }
 },
 "nbformat": 4,
 "nbformat_minor": 4
}
