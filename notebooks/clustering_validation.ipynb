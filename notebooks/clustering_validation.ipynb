{
 "cells": [
  {
   "cell_type": "code",
   "execution_count": 34,
   "metadata": {},
   "outputs": [],
   "source": [
    "from comet_ml import API\n",
    "import comet_ml\n",
    "import io\n",
    "import os\n",
    "import numpy as np\n",
    "import matplotlib.pyplot as plt\n",
    "import pandas as pd\n",
    "import seaborn as sns\n",
    "from collections import defaultdict\n",
    "import time\n",
    "\n",
    "\n",
    "from matplotlib.patches import Rectangle\n",
    "from matplotlib.lines import Line2D\n",
    "from colour import Color\n",
    "\n"
   ]
  },
  {
   "cell_type": "code",
   "execution_count": 35,
   "metadata": {},
   "outputs": [
    {
     "data": {
      "text/plain": [
       "['ketrint', 'schattengenie']"
      ]
     },
     "execution_count": 35,
     "metadata": {},
     "output_type": "execute_result"
    }
   ],
   "source": [
    "comet_api = API(api_key='abUSnAytqEzSzLOxNLP1ohibs')\n",
    "comet_api.get()"
   ]
  },
  {
   "cell_type": "code",
   "execution_count": 36,
   "metadata": {},
   "outputs": [],
   "source": [
    "def get_parameter_by_key(exp, key):\n",
    "    parameters = exp.get_parameters_summary()\n",
    "    for parameter in parameters:\n",
    "        if parameter['name'] == key:\n",
    "            return parameter['valueCurrent']\n"
   ]
  },
  {
   "cell_type": "code",
   "execution_count": 37,
   "metadata": {},
   "outputs": [],
   "source": [
    "def get_parameter_by_key(exp, key):\n",
    "    parameters = exp.get_parameters_summary()\n",
    "    for parameter in parameters:\n",
    "        if parameter['name'] == key:\n",
    "            return parameter['valueCurrent']\n",
    "    return None\n",
    "\n",
    "def new_to_old_metric(exp, key):\n",
    "    metric = exp.get_metrics(key)\n",
    "    vals = [float(m['metricValue']) for m in metric]\n",
    "    return vals\n",
    "\n",
    "def stack_lists(data, n=1000):\n",
    "    new_data = []\n",
    "    for d in data:\n",
    "        if len(d) > n:\n",
    "            new_data.append(d[:n])\n",
    "        elif len(d) < n:\n",
    "            new_data.append(\n",
    "                np.concatenate([d, d[-1].repeat(n - len(d))])\n",
    "            )\n",
    "    return np.vstack(new_data).T\n",
    "\n",
    "def preprocess_gp(vals):\n",
    "    return np.minimum.accumulate(vals)\n",
    "\n",
    "def add_zero_point(vals, point):\n",
    "    return np.array([point] + vals.tolist())"
   ]
  },
  {
   "cell_type": "code",
   "execution_count": 38,
   "metadata": {},
   "outputs": [],
   "source": [
    "experiments_names = ['clust-val-final']"
   ]
  },
  {
   "cell_type": "code",
   "execution_count": 39,
   "metadata": {},
   "outputs": [],
   "source": [
    "experiments = []\n",
    "for i in range(len(experiments_names)):\n",
    "    experiments.append(comet_api.get(workspace='ketrint', project_name=experiments_names[i]))"
   ]
  },
  {
   "cell_type": "code",
   "execution_count": 40,
   "metadata": {},
   "outputs": [],
   "source": [
    "experiments = [item for sublist in experiments for item in sublist]"
   ]
  },
  {
   "cell_type": "code",
   "execution_count": 41,
   "metadata": {},
   "outputs": [],
   "source": [
    "from collections import defaultdict\n",
    "\n",
    "good_showers = defaultdict(list)\n",
    "stuck_showers = defaultdict(list)\n",
    "broken_showers = defaultdict(list)\n",
    "lost_showers = defaultdict(list)\n",
    "x = defaultdict(list)\n",
    "y = defaultdict(list)\n",
    "z = defaultdict(list)\n",
    "tx = defaultdict(list)\n",
    "ty = defaultdict(list)\n",
    "\n",
    "def get_data(key):\n",
    "    good_showers[key].append(new_to_old_metric(exp, \"Good showers\")[0])\n",
    "    stuck_showers[key].append(new_to_old_metric(exp, \"Stuck showers\"))\n",
    "    broken_showers[key].append(new_to_old_metric(exp, \"Broken showers\"))\n",
    "    lost_showers[key].append(new_to_old_metric(exp, \"Lost showers\"))\n",
    "    x[key].append(new_to_old_metric(exp, \"MAE for x\"))\n",
    "    y[key].append(new_to_old_metric(exp,  \"MAE for y\"))\n",
    "    z[key].append(new_to_old_metric(exp, \"MAE for z\"))\n",
    "    tx[key].append(new_to_old_metric(exp, \"MAE for tx\"))\n",
    "    ty[key].append(new_to_old_metric(exp, \"MAE for ty\"))\n"
   ]
  },
  {
   "cell_type": "code",
   "execution_count": 42,
   "metadata": {},
   "outputs": [],
   "source": [
    "for exp in experiments:\n",
    "    if exp.get_command()[2] == './data_new/data/rand_preprocessed.pt':\n",
    "        if exp.get_command()[-5] == 'True':\n",
    "            key = 'HDBSCAN'\n",
    "            get_data(key)\n",
    "        else: \n",
    "            if exp.get_command()[12] == '0':  \n",
    "                key = 'Pure_emulsion'\n",
    "                get_data(key)\n",
    "            elif exp.get_command()[12] == '4':\n",
    "                key = 'Equal Mix'\n",
    "                get_data(key)\n",
    "            elif exp.get_command()[12] == '3':       \n",
    "                key = 'Mix Emulsion'\n",
    "                get_data(key)\n",
    "\n"
   ]
  },
  {
   "cell_type": "code",
   "execution_count": 43,
   "metadata": {},
   "outputs": [],
   "source": [
    "dict_list = [good_showers, stuck_showers, \n",
    "                   broken_showers, lost_showers, \n",
    "                   x, y, z, tx, ty]"
   ]
  },
  {
   "cell_type": "code",
   "execution_count": 44,
   "metadata": {},
   "outputs": [],
   "source": [
    "dict_names = ['good_showers', 'stuck_showers', \n",
    "                   'broken_showers', 'lost_showers', \n",
    "                   'MAE for x', 'MAE for y', 'MAE for z', 'MAE for tx', 'MAE for ty']"
   ]
  },
  {
   "cell_type": "code",
   "execution_count": 45,
   "metadata": {},
   "outputs": [],
   "source": [
    "for dictionary in dict_list:\n",
    "    for key in dictionary: \n",
    "        dictionary[key] = [np.round(np.mean(dictionary[key]),3), \n",
    "                           np.round(np.std(dictionary[key]), 3)]"
   ]
  },
  {
   "cell_type": "code",
   "execution_count": 46,
   "metadata": {},
   "outputs": [],
   "source": [
    "df = pd.DataFrame.from_dict(dict_list)"
   ]
  },
  {
   "cell_type": "code",
   "execution_count": 47,
   "metadata": {},
   "outputs": [],
   "source": [
    "df = df.assign(Metric = dict_names)"
   ]
  },
  {
   "cell_type": "code",
   "execution_count": 48,
   "metadata": {},
   "outputs": [],
   "source": [
    "df = df.set_index('Metric') "
   ]
  },
  {
   "cell_type": "code",
   "execution_count": 49,
   "metadata": {},
   "outputs": [
    {
     "data": {
      "text/html": [
       "<div>\n",
       "<style scoped>\n",
       "    .dataframe tbody tr th:only-of-type {\n",
       "        vertical-align: middle;\n",
       "    }\n",
       "\n",
       "    .dataframe tbody tr th {\n",
       "        vertical-align: top;\n",
       "    }\n",
       "\n",
       "    .dataframe thead th {\n",
       "        text-align: right;\n",
       "    }\n",
       "</style>\n",
       "<table border=\"1\" class=\"dataframe\">\n",
       "  <thead>\n",
       "    <tr style=\"text-align: right;\">\n",
       "      <th></th>\n",
       "      <th>Mix Emulsion</th>\n",
       "      <th>HDBSCAN</th>\n",
       "      <th>Pure_emulsion</th>\n",
       "      <th>Equal Mix</th>\n",
       "    </tr>\n",
       "    <tr>\n",
       "      <th>Metric</th>\n",
       "      <th></th>\n",
       "      <th></th>\n",
       "      <th></th>\n",
       "      <th></th>\n",
       "    </tr>\n",
       "  </thead>\n",
       "  <tbody>\n",
       "    <tr>\n",
       "      <th>good_showers</th>\n",
       "      <td>[0.868, 0.021]</td>\n",
       "      <td>[0.706, 0.029]</td>\n",
       "      <td>[0.829, 0.026]</td>\n",
       "      <td>[0.581, 0.392]</td>\n",
       "    </tr>\n",
       "    <tr>\n",
       "      <th>stuck_showers</th>\n",
       "      <td>[0.088, 0.03]</td>\n",
       "      <td>[0.137, 0.033]</td>\n",
       "      <td>[0.124, 0.028]</td>\n",
       "      <td>[0.394, 0.399]</td>\n",
       "    </tr>\n",
       "    <tr>\n",
       "      <th>broken_showers</th>\n",
       "      <td>[0.04, 0.009]</td>\n",
       "      <td>[0.157, 0.045]</td>\n",
       "      <td>[0.04, 0.004]</td>\n",
       "      <td>[0.02, 0.01]</td>\n",
       "    </tr>\n",
       "    <tr>\n",
       "      <th>lost_showers</th>\n",
       "      <td>[0.004, 0.001]</td>\n",
       "      <td>[0.0, 0.0]</td>\n",
       "      <td>[0.008, 0.003]</td>\n",
       "      <td>[0.005, 0.002]</td>\n",
       "    </tr>\n",
       "    <tr>\n",
       "      <th>MAE for x</th>\n",
       "      <td>[0.308, 0.002]</td>\n",
       "      <td>[0.312, 0.001]</td>\n",
       "      <td>[0.308, 0.002]</td>\n",
       "      <td>[0.309, 0.003]</td>\n",
       "    </tr>\n",
       "    <tr>\n",
       "      <th>MAE for y</th>\n",
       "      <td>[0.244, 0.001]</td>\n",
       "      <td>[0.246, 0.002]</td>\n",
       "      <td>[0.244, 0.001]</td>\n",
       "      <td>[0.248, 0.005]</td>\n",
       "    </tr>\n",
       "    <tr>\n",
       "      <th>MAE for z</th>\n",
       "      <td>[0.207, 0.001]</td>\n",
       "      <td>[0.205, 0.002]</td>\n",
       "      <td>[0.205, 0.002]</td>\n",
       "      <td>[0.195, 0.015]</td>\n",
       "    </tr>\n",
       "    <tr>\n",
       "      <th>MAE for tx</th>\n",
       "      <td>[0.009, 0.0]</td>\n",
       "      <td>[0.009, 0.0]</td>\n",
       "      <td>[0.008, 0.0]</td>\n",
       "      <td>[0.008, 0.0]</td>\n",
       "    </tr>\n",
       "    <tr>\n",
       "      <th>MAE for ty</th>\n",
       "      <td>[0.009, 0.0]</td>\n",
       "      <td>[0.009, 0.0]</td>\n",
       "      <td>[0.008, 0.0]</td>\n",
       "      <td>[0.009, 0.001]</td>\n",
       "    </tr>\n",
       "  </tbody>\n",
       "</table>\n",
       "</div>"
      ],
      "text/plain": [
       "                  Mix Emulsion         HDBSCAN   Pure_emulsion       Equal Mix\n",
       "Metric                                                                        \n",
       "good_showers    [0.868, 0.021]  [0.706, 0.029]  [0.829, 0.026]  [0.581, 0.392]\n",
       "stuck_showers    [0.088, 0.03]  [0.137, 0.033]  [0.124, 0.028]  [0.394, 0.399]\n",
       "broken_showers   [0.04, 0.009]  [0.157, 0.045]   [0.04, 0.004]    [0.02, 0.01]\n",
       "lost_showers    [0.004, 0.001]      [0.0, 0.0]  [0.008, 0.003]  [0.005, 0.002]\n",
       "MAE for x       [0.308, 0.002]  [0.312, 0.001]  [0.308, 0.002]  [0.309, 0.003]\n",
       "MAE for y       [0.244, 0.001]  [0.246, 0.002]  [0.244, 0.001]  [0.248, 0.005]\n",
       "MAE for z       [0.207, 0.001]  [0.205, 0.002]  [0.205, 0.002]  [0.195, 0.015]\n",
       "MAE for tx        [0.009, 0.0]    [0.009, 0.0]    [0.008, 0.0]    [0.008, 0.0]\n",
       "MAE for ty        [0.009, 0.0]    [0.009, 0.0]    [0.008, 0.0]  [0.009, 0.001]"
      ]
     },
     "execution_count": 49,
     "metadata": {},
     "output_type": "execute_result"
    }
   ],
   "source": [
    "df"
   ]
  },
  {
   "cell_type": "markdown",
   "metadata": {},
   "source": [
    "# Cross-validation performance of networks trained on different train datas"
   ]
  },
  {
   "cell_type": "code",
   "execution_count": 19,
   "metadata": {},
   "outputs": [],
   "source": [
    "experiments_names = ['clust-cross', 'test-hypo']\n",
    "\n",
    "experiments = []\n",
    "for i in range(len(experiments_names)):\n",
    "    experiments.append(comet_api.get(workspace='ketrint', project_name=experiments_names[i]))\n",
    "    \n",
    "experiments = [item for sublist in experiments for item in sublist]"
   ]
  },
  {
   "cell_type": "code",
   "execution_count": 20,
   "metadata": {},
   "outputs": [
    {
     "data": {
      "text/plain": [
       "24"
      ]
     },
     "execution_count": 20,
     "metadata": {},
     "output_type": "execute_result"
    }
   ],
   "source": [
    "len(experiments)"
   ]
  },
  {
   "cell_type": "code",
   "execution_count": 25,
   "metadata": {},
   "outputs": [
    {
     "data": {
      "text/plain": [
       "['clustering.py',\n",
       " '--datafile',\n",
       " './data_new/data/rand_preprocessed.pt',\n",
       " '--start',\n",
       " '67',\n",
       " '--end',\n",
       " '100',\n",
       " '--clusters_file',\n",
       " './data_new/clusters_rand.pt',\n",
       " '--num_layers_emulsion',\n",
       " '5',\n",
       " '--num_layers_edge_conv',\n",
       " '3',\n",
       " '--hidden_dim',\n",
       " '32',\n",
       " '--output_dim',\n",
       " '32',\n",
       " '--graph_embedder',\n",
       " 'GraphNN_KNN_v2',\n",
       " '--edge_classifier',\n",
       " 'EdgeClassifier_v1',\n",
       " '--project_name',\n",
       " 'test_hypo',\n",
       " '--workspace',\n",
       " 'ketrint',\n",
       " '--z_file',\n",
       " './data_new/z.npy',\n",
       " '--graph_embedder_weights',\n",
       " 'graph_embedder_50_preprocessed_train_d8efa5076b9345649794c7f494a1fe42.pt',\n",
       " '--edge_classifier_weights',\n",
       " 'edge_classifier_50_preprocessed_train_d8efa5076b9345649794c7f494a1fe42.pt',\n",
       " '--cl_size',\n",
       " '30',\n",
       " '--min_cl',\n",
       " '30',\n",
       " '--threshold',\n",
       " '0.6',\n",
       " '--min_samples_core',\n",
       " '2',\n",
       " '--vanilla_hdbscan',\n",
       " 'False',\n",
       " '--energy_file',\n",
       " './data_new/e.npy',\n",
       " '--energy_true_file',\n",
       " './data_new/E.npy']"
      ]
     },
     "execution_count": 25,
     "metadata": {},
     "output_type": "execute_result"
    }
   ],
   "source": [
    "experiments[23].get_command()"
   ]
  },
  {
   "cell_type": "code",
   "execution_count": 26,
   "metadata": {},
   "outputs": [],
   "source": [
    "for exp in experiments: \n",
    "    if exp.get_command()[2] == './data_new/data/rand_preprocessed.pt':\n",
    "        if exp.get_command()[-15].split('_')[2] == '200':\n",
    "            key = '200_rand'\n",
    "            get_data(key)\n",
    "        if exp.get_command()[-15].split('_')[2] == '50':\n",
    "            key = '50_rand'\n",
    "            get_data(key)           \n",
    "    else:\n",
    "        if exp.get_command()[-19].split('_')[2] == 'rand' and exp.get_command()[-13] == '50':  \n",
    "            key = 'rand_50'\n",
    "            get_data(key)\n",
    "        elif exp.get_command()[-19].split('_')[2] == 'rand' and exp.get_command()[-13] == '200':\n",
    "            key = 'rand_200'\n",
    "            get_data(key)\n",
    "        elif exp.get_command()[-19].split('_')[2] == '200' and exp.get_command()[-13] == '200':      \n",
    "            key = '200_200'\n",
    "            get_data(key)\n",
    "        elif exp.get_command()[-19].split('_')[2] == '200' and exp.get_command()[-13] == '50':      \n",
    "            key = '200_50'\n",
    "            get_data(key)\n",
    "        elif exp.get_command()[-19].split('_')[2] == '50' and exp.get_command()[-13] == '50':      \n",
    "            key = '50_50'\n",
    "            get_data(key)\n",
    "        elif exp.get_command()[-19].split('_')[2] == '50' and exp.get_command()[-13] == '200':      \n",
    "            key = '50_200'\n",
    "            get_data(key)\n",
    "        elif exp.get_command()[-19].split('_')[2] == '50' and exp.get_command()[-13] == '200':      \n",
    "            key = '50_200'\n",
    "            get_data(key)"
   ]
  },
  {
   "cell_type": "code",
   "execution_count": 27,
   "metadata": {},
   "outputs": [],
   "source": [
    "dict_list = [good_showers, stuck_showers, \n",
    "                   broken_showers, lost_showers, \n",
    "                   x, y, z, tx, ty]"
   ]
  },
  {
   "cell_type": "code",
   "execution_count": 28,
   "metadata": {},
   "outputs": [],
   "source": [
    "dict_names = ['good_showers', 'stuck_showers', \n",
    "                   'broken_showers', 'lost_showers', \n",
    "                   'MAE for x', 'MAE for y', 'MAE for z', 'MAE for tx', 'MAE for ty']"
   ]
  },
  {
   "cell_type": "code",
   "execution_count": 29,
   "metadata": {},
   "outputs": [],
   "source": [
    "for dictionary in dict_list:\n",
    "    for key in dictionary: \n",
    "        dictionary[key] = [np.round(np.mean(dictionary[key])*100,2), \n",
    "                           np.round(np.std(dictionary[key])*100,2)]"
   ]
  },
  {
   "cell_type": "code",
   "execution_count": 30,
   "metadata": {},
   "outputs": [],
   "source": [
    "df = pd.DataFrame.from_dict(dict_list)"
   ]
  },
  {
   "cell_type": "code",
   "execution_count": 31,
   "metadata": {},
   "outputs": [],
   "source": [
    "df = df.assign(Metric = dict_names)"
   ]
  },
  {
   "cell_type": "code",
   "execution_count": 32,
   "metadata": {},
   "outputs": [],
   "source": [
    "df = df.set_index('Metric') "
   ]
  },
  {
   "cell_type": "code",
   "execution_count": 33,
   "metadata": {},
   "outputs": [
    {
     "data": {
      "text/html": [
       "<div>\n",
       "<style scoped>\n",
       "    .dataframe tbody tr th:only-of-type {\n",
       "        vertical-align: middle;\n",
       "    }\n",
       "\n",
       "    .dataframe tbody tr th {\n",
       "        vertical-align: top;\n",
       "    }\n",
       "\n",
       "    .dataframe thead th {\n",
       "        text-align: right;\n",
       "    }\n",
       "</style>\n",
       "<table border=\"1\" class=\"dataframe\">\n",
       "  <thead>\n",
       "    <tr style=\"text-align: right;\">\n",
       "      <th></th>\n",
       "      <th>rand_50</th>\n",
       "      <th>rand_200</th>\n",
       "      <th>50_50</th>\n",
       "      <th>200_50</th>\n",
       "      <th>50_200</th>\n",
       "      <th>200_200</th>\n",
       "      <th>200_rand</th>\n",
       "      <th>50_rand</th>\n",
       "    </tr>\n",
       "    <tr>\n",
       "      <th>Metric</th>\n",
       "      <th></th>\n",
       "      <th></th>\n",
       "      <th></th>\n",
       "      <th></th>\n",
       "      <th></th>\n",
       "      <th></th>\n",
       "      <th></th>\n",
       "      <th></th>\n",
       "    </tr>\n",
       "  </thead>\n",
       "  <tbody>\n",
       "    <tr>\n",
       "      <th>good_showers</th>\n",
       "      <td>[91.52, 0.06]</td>\n",
       "      <td>[83.26, 2.17]</td>\n",
       "      <td>[86.0, 2.53]</td>\n",
       "      <td>[88.99, 0.68]</td>\n",
       "      <td>[75.24, 0.89]</td>\n",
       "      <td>[78.48, 0.25]</td>\n",
       "      <td>[82.2, 1.91]</td>\n",
       "      <td>[82.1, 2.46]</td>\n",
       "    </tr>\n",
       "    <tr>\n",
       "      <th>stuck_showers</th>\n",
       "      <td>[5.53, 0.23]</td>\n",
       "      <td>[13.08, 2.42]</td>\n",
       "      <td>[12.1, 2.25]</td>\n",
       "      <td>[9.05, 0.63]</td>\n",
       "      <td>[21.93, 0.89]</td>\n",
       "      <td>[18.63, 0.13]</td>\n",
       "      <td>[15.03, 2.21]</td>\n",
       "      <td>[14.86, 2.75]</td>\n",
       "    </tr>\n",
       "    <tr>\n",
       "      <th>broken_showers</th>\n",
       "      <td>[2.0, 0.32]</td>\n",
       "      <td>[2.19, 0.32]</td>\n",
       "      <td>[1.26, 0.19]</td>\n",
       "      <td>[1.25, 0.06]</td>\n",
       "      <td>[1.43, 0.15]</td>\n",
       "      <td>[1.49, 0.11]</td>\n",
       "      <td>[2.49, 0.37]</td>\n",
       "      <td>[2.68, 0.3]</td>\n",
       "    </tr>\n",
       "    <tr>\n",
       "      <th>lost_showers</th>\n",
       "      <td>[0.95, 0.61]</td>\n",
       "      <td>[1.47, 0.13]</td>\n",
       "      <td>[0.64, 0.16]</td>\n",
       "      <td>[0.71, 0.04]</td>\n",
       "      <td>[1.4, 0.24]</td>\n",
       "      <td>[1.39, 0.08]</td>\n",
       "      <td>[0.28, 0.07]</td>\n",
       "      <td>[0.36, 0.08]</td>\n",
       "    </tr>\n",
       "    <tr>\n",
       "      <th>MAE for x</th>\n",
       "      <td>[30.69, 0.3]</td>\n",
       "      <td>[30.71, 0.38]</td>\n",
       "      <td>[30.69, 0.18]</td>\n",
       "      <td>[30.77, 0.23]</td>\n",
       "      <td>[30.79, 0.44]</td>\n",
       "      <td>[30.75, 0.38]</td>\n",
       "      <td>[30.89, 0.11]</td>\n",
       "      <td>[30.86, 0.14]</td>\n",
       "    </tr>\n",
       "    <tr>\n",
       "      <th>MAE for y</th>\n",
       "      <td>[24.39, 0.14]</td>\n",
       "      <td>[24.34, 0.16]</td>\n",
       "      <td>[24.4, 0.15]</td>\n",
       "      <td>[24.31, 0.15]</td>\n",
       "      <td>[24.38, 0.17]</td>\n",
       "      <td>[24.31, 0.24]</td>\n",
       "      <td>[24.33, 0.14]</td>\n",
       "      <td>[24.43, 0.17]</td>\n",
       "    </tr>\n",
       "    <tr>\n",
       "      <th>MAE for z</th>\n",
       "      <td>[20.64, 0.16]</td>\n",
       "      <td>[20.61, 0.16]</td>\n",
       "      <td>[20.53, 0.24]</td>\n",
       "      <td>[20.6, 0.16]</td>\n",
       "      <td>[20.52, 0.22]</td>\n",
       "      <td>[20.57, 0.18]</td>\n",
       "      <td>[20.67, 0.22]</td>\n",
       "      <td>[20.64, 0.25]</td>\n",
       "    </tr>\n",
       "    <tr>\n",
       "      <th>MAE for tx</th>\n",
       "      <td>[0.87, 0.02]</td>\n",
       "      <td>[0.86, 0.03]</td>\n",
       "      <td>[0.88, 0.03]</td>\n",
       "      <td>[0.88, 0.02]</td>\n",
       "      <td>[0.88, 0.03]</td>\n",
       "      <td>[0.88, 0.03]</td>\n",
       "      <td>[0.87, 0.0]</td>\n",
       "      <td>[0.87, 0.04]</td>\n",
       "    </tr>\n",
       "    <tr>\n",
       "      <th>MAE for ty</th>\n",
       "      <td>[0.86, 0.0]</td>\n",
       "      <td>[0.85, 0.01]</td>\n",
       "      <td>[0.87, 0.01]</td>\n",
       "      <td>[0.88, 0.01]</td>\n",
       "      <td>[0.86, 0.03]</td>\n",
       "      <td>[0.86, 0.03]</td>\n",
       "      <td>[0.88, 0.01]</td>\n",
       "      <td>[0.87, 0.02]</td>\n",
       "    </tr>\n",
       "  </tbody>\n",
       "</table>\n",
       "</div>"
      ],
      "text/plain": [
       "                      rand_50       rand_200          50_50         200_50  \\\n",
       "Metric                                                                       \n",
       "good_showers    [91.52, 0.06]  [83.26, 2.17]   [86.0, 2.53]  [88.99, 0.68]   \n",
       "stuck_showers    [5.53, 0.23]  [13.08, 2.42]   [12.1, 2.25]   [9.05, 0.63]   \n",
       "broken_showers    [2.0, 0.32]   [2.19, 0.32]   [1.26, 0.19]   [1.25, 0.06]   \n",
       "lost_showers     [0.95, 0.61]   [1.47, 0.13]   [0.64, 0.16]   [0.71, 0.04]   \n",
       "MAE for x        [30.69, 0.3]  [30.71, 0.38]  [30.69, 0.18]  [30.77, 0.23]   \n",
       "MAE for y       [24.39, 0.14]  [24.34, 0.16]   [24.4, 0.15]  [24.31, 0.15]   \n",
       "MAE for z       [20.64, 0.16]  [20.61, 0.16]  [20.53, 0.24]   [20.6, 0.16]   \n",
       "MAE for tx       [0.87, 0.02]   [0.86, 0.03]   [0.88, 0.03]   [0.88, 0.02]   \n",
       "MAE for ty        [0.86, 0.0]   [0.85, 0.01]   [0.87, 0.01]   [0.88, 0.01]   \n",
       "\n",
       "                       50_200        200_200       200_rand        50_rand  \n",
       "Metric                                                                      \n",
       "good_showers    [75.24, 0.89]  [78.48, 0.25]   [82.2, 1.91]   [82.1, 2.46]  \n",
       "stuck_showers   [21.93, 0.89]  [18.63, 0.13]  [15.03, 2.21]  [14.86, 2.75]  \n",
       "broken_showers   [1.43, 0.15]   [1.49, 0.11]   [2.49, 0.37]    [2.68, 0.3]  \n",
       "lost_showers      [1.4, 0.24]   [1.39, 0.08]   [0.28, 0.07]   [0.36, 0.08]  \n",
       "MAE for x       [30.79, 0.44]  [30.75, 0.38]  [30.89, 0.11]  [30.86, 0.14]  \n",
       "MAE for y       [24.38, 0.17]  [24.31, 0.24]  [24.33, 0.14]  [24.43, 0.17]  \n",
       "MAE for z       [20.52, 0.22]  [20.57, 0.18]  [20.67, 0.22]  [20.64, 0.25]  \n",
       "MAE for tx       [0.88, 0.03]   [0.88, 0.03]    [0.87, 0.0]   [0.87, 0.04]  \n",
       "MAE for ty       [0.86, 0.03]   [0.86, 0.03]   [0.88, 0.01]   [0.87, 0.02]  "
      ]
     },
     "execution_count": 33,
     "metadata": {},
     "output_type": "execute_result"
    }
   ],
   "source": [
    "df"
   ]
  },
  {
   "cell_type": "code",
   "execution_count": null,
   "metadata": {},
   "outputs": [],
   "source": []
  }
 ],
 "metadata": {
  "kernelspec": {
   "display_name": "Python 3",
   "language": "python",
   "name": "python3"
  },
  "language_info": {
   "codemirror_mode": {
    "name": "ipython",
    "version": 3
   },
   "file_extension": ".py",
   "mimetype": "text/x-python",
   "name": "python",
   "nbconvert_exporter": "python",
   "pygments_lexer": "ipython3",
   "version": "3.8.3"
  }
 },
 "nbformat": 4,
 "nbformat_minor": 4
}
