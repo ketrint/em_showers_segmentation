{
 "cells": [
  {
   "cell_type": "code",
   "execution_count": 1,
   "metadata": {},
   "outputs": [],
   "source": [
    "from comet_ml import API\n",
    "import comet_ml\n",
    "import io\n",
    "import os\n",
    "import numpy as np\n",
    "import matplotlib.pyplot as plt\n",
    "import pandas as pd\n",
    "import seaborn as sns\n",
    "from collections import defaultdict\n",
    "import time\n",
    "\n",
    "\n",
    "from matplotlib.patches import Rectangle\n",
    "from matplotlib.lines import Line2D\n",
    "from colour import Color\n",
    "\n"
   ]
  },
  {
   "cell_type": "code",
   "execution_count": 2,
   "metadata": {},
   "outputs": [
    {
     "data": {
      "text/plain": [
       "['ketrint', 'schattengenie']"
      ]
     },
     "execution_count": 2,
     "metadata": {},
     "output_type": "execute_result"
    }
   ],
   "source": [
    "comet_api = API(api_key='abUSnAytqEzSzLOxNLP1ohibs')\n",
    "comet_api.get()"
   ]
  },
  {
   "cell_type": "code",
   "execution_count": 3,
   "metadata": {},
   "outputs": [],
   "source": [
    "def get_parameter_by_key(exp, key):\n",
    "    parameters = exp.get_parameters_summary()\n",
    "    for parameter in parameters:\n",
    "        if parameter['name'] == key:\n",
    "            return parameter['valueCurrent']\n"
   ]
  },
  {
   "cell_type": "code",
   "execution_count": 4,
   "metadata": {},
   "outputs": [],
   "source": [
    "def get_parameter_by_key(exp, key):\n",
    "    parameters = exp.get_parameters_summary()\n",
    "    for parameter in parameters:\n",
    "        if parameter['name'] == key:\n",
    "            return parameter['valueCurrent']\n",
    "    return None\n",
    "\n",
    "def new_to_old_metric(exp, key):\n",
    "    metric = exp.get_metrics(key)\n",
    "    vals = [float(m['metricValue']) for m in metric]\n",
    "    return vals\n",
    "\n",
    "def stack_lists(data, n=1000):\n",
    "    new_data = []\n",
    "    for d in data:\n",
    "        if len(d) > n:\n",
    "            new_data.append(d[:n])\n",
    "        elif len(d) < n:\n",
    "            new_data.append(\n",
    "                np.concatenate([d, d[-1].repeat(n - len(d))])\n",
    "            )\n",
    "    return np.vstack(new_data).T\n",
    "\n",
    "def preprocess_gp(vals):\n",
    "    return np.minimum.accumulate(vals)\n",
    "\n",
    "def add_zero_point(vals, point):\n",
    "    return np.array([point] + vals.tolist())"
   ]
  },
  {
   "cell_type": "code",
   "execution_count": 5,
   "metadata": {},
   "outputs": [],
   "source": [
    "experiments_names = ['val-10kcv']"
   ]
  },
  {
   "cell_type": "code",
   "execution_count": 6,
   "metadata": {},
   "outputs": [],
   "source": [
    "experiments = []\n",
    "for i in range(len(experiments_names)):\n",
    "    experiments.append(comet_api.get(workspace='ketrint', project_name=experiments_names[i]))"
   ]
  },
  {
   "cell_type": "code",
   "execution_count": 7,
   "metadata": {},
   "outputs": [],
   "source": [
    "experiments = [item for sublist in experiments for item in sublist]"
   ]
  },
  {
   "cell_type": "code",
   "execution_count": 8,
   "metadata": {},
   "outputs": [],
   "source": [
    "from collections import defaultdict\n",
    "\n",
    "good_showers = defaultdict(list)\n",
    "stuck_showers = defaultdict(list)\n",
    "broken_showers = defaultdict(list)\n",
    "lost_showers = defaultdict(list)\n",
    "x = defaultdict(list)\n",
    "y = defaultdict(list)\n",
    "z = defaultdict(list)\n",
    "tx = defaultdict(list)\n",
    "ty = defaultdict(list)\n",
    "\n",
    "def get_data(key):\n",
    "    good_showers[key].append(new_to_old_metric(exp, \"Good showers\")[0])\n",
    "    stuck_showers[key].append(new_to_old_metric(exp, \"Stuck showers\"))\n",
    "    broken_showers[key].append(new_to_old_metric(exp, \"Broken showers\"))\n",
    "    lost_showers[key].append(new_to_old_metric(exp, \"Lost showers\"))\n",
    "    x[key].append(new_to_old_metric(exp, \"MAE for x\"))\n",
    "    y[key].append(new_to_old_metric(exp,  \"MAE for y\"))\n",
    "    z[key].append(new_to_old_metric(exp, \"MAE for z\"))\n",
    "    tx[key].append(new_to_old_metric(exp, \"MAE for tx\"))\n",
    "    ty[key].append(new_to_old_metric(exp, \"MAE for ty\"))\n"
   ]
  },
  {
   "cell_type": "code",
   "execution_count": 9,
   "metadata": {},
   "outputs": [],
   "source": [
    "for exp in experiments:\n",
    "    if exp.get_command()[2] == './data_new/data/rand_preprocessed.pt':\n",
    "        if exp.get_command()[-5] == 'True':\n",
    "            key = 'HDBSCAN'\n",
    "            get_data(key)\n",
    "        else: \n",
    "            if exp.get_command()[14] == '5':  \n",
    "                key = 'Mix Emulsion'\n",
    "                get_data(key)\n",
    "            elif exp.get_command()[14] == '4':\n",
    "                key = 'Equal Mix'\n",
    "                get_data(key)\n",
    "            elif exp.get_command()[14] == '3':       \n",
    "                key = 'Mix Edge'\n",
    "                get_data(key)\n",
    "\n"
   ]
  },
  {
   "cell_type": "code",
   "execution_count": 10,
   "metadata": {},
   "outputs": [],
   "source": [
    "dict_list = [good_showers, stuck_showers, \n",
    "                   broken_showers, lost_showers, \n",
    "                   x, y, z, tx, ty]"
   ]
  },
  {
   "cell_type": "code",
   "execution_count": 11,
   "metadata": {},
   "outputs": [],
   "source": [
    "dict_names = ['good_showers', 'stuck_showers', \n",
    "                   'broken_showers', 'lost_showers', \n",
    "                   'MAE for x', 'MAE for y', 'MAE for z', 'MAE for tx', 'MAE for ty']"
   ]
  },
  {
   "cell_type": "code",
   "execution_count": 12,
   "metadata": {},
   "outputs": [],
   "source": [
    "for dictionary in dict_list:\n",
    "    for key in dictionary: \n",
    "        dictionary[key] = [np.round(np.mean(dictionary[key]),2), \n",
    "                           np.round(np.std(dictionary[key]), 2)]"
   ]
  },
  {
   "cell_type": "code",
   "execution_count": 13,
   "metadata": {},
   "outputs": [],
   "source": [
    "df = pd.DataFrame.from_dict(dict_list)"
   ]
  },
  {
   "cell_type": "code",
   "execution_count": 14,
   "metadata": {},
   "outputs": [],
   "source": [
    "df = df.assign(Metric = dict_names)"
   ]
  },
  {
   "cell_type": "code",
   "execution_count": 15,
   "metadata": {},
   "outputs": [],
   "source": [
    "df = df.set_index('Metric') "
   ]
  },
  {
   "cell_type": "code",
   "execution_count": 16,
   "metadata": {},
   "outputs": [
    {
     "data": {
      "text/html": [
       "<div>\n",
       "<style scoped>\n",
       "    .dataframe tbody tr th:only-of-type {\n",
       "        vertical-align: middle;\n",
       "    }\n",
       "\n",
       "    .dataframe tbody tr th {\n",
       "        vertical-align: top;\n",
       "    }\n",
       "\n",
       "    .dataframe thead th {\n",
       "        text-align: right;\n",
       "    }\n",
       "</style>\n",
       "<table border=\"1\" class=\"dataframe\">\n",
       "  <thead>\n",
       "    <tr style=\"text-align: right;\">\n",
       "      <th></th>\n",
       "      <th>Mix Emulsion</th>\n",
       "      <th>HDBSCAN</th>\n",
       "      <th>Equal Mix</th>\n",
       "      <th>Mix Edge</th>\n",
       "    </tr>\n",
       "    <tr>\n",
       "      <th>Metric</th>\n",
       "      <th></th>\n",
       "      <th></th>\n",
       "      <th></th>\n",
       "      <th></th>\n",
       "    </tr>\n",
       "  </thead>\n",
       "  <tbody>\n",
       "    <tr>\n",
       "      <th>good_showers</th>\n",
       "      <td>[0.86, 0.03]</td>\n",
       "      <td>[0.69, 0.06]</td>\n",
       "      <td>[0.86, 0.03]</td>\n",
       "      <td>[0.87, 0.02]</td>\n",
       "    </tr>\n",
       "    <tr>\n",
       "      <th>stuck_showers</th>\n",
       "      <td>[0.1, 0.04]</td>\n",
       "      <td>[0.16, 0.09]</td>\n",
       "      <td>[0.11, 0.04]</td>\n",
       "      <td>[0.1, 0.03]</td>\n",
       "    </tr>\n",
       "    <tr>\n",
       "      <th>broken_showers</th>\n",
       "      <td>[0.03, 0.01]</td>\n",
       "      <td>[0.14, 0.04]</td>\n",
       "      <td>[0.03, 0.01]</td>\n",
       "      <td>[0.03, 0.01]</td>\n",
       "    </tr>\n",
       "    <tr>\n",
       "      <th>lost_showers</th>\n",
       "      <td>[0.0, 0.0]</td>\n",
       "      <td>[0.0, 0.0]</td>\n",
       "      <td>[0.0, 0.0]</td>\n",
       "      <td>[0.0, 0.0]</td>\n",
       "    </tr>\n",
       "    <tr>\n",
       "      <th>MAE for x</th>\n",
       "      <td>[154.01, 9.28]</td>\n",
       "      <td>[146.81, 13.95]</td>\n",
       "      <td>[153.72, 12.13]</td>\n",
       "      <td>[154.63, 13.8]</td>\n",
       "    </tr>\n",
       "    <tr>\n",
       "      <th>MAE for y</th>\n",
       "      <td>[151.06, 10.21]</td>\n",
       "      <td>[147.01, 12.95]</td>\n",
       "      <td>[153.88, 11.45]</td>\n",
       "      <td>[156.47, 13.16]</td>\n",
       "    </tr>\n",
       "    <tr>\n",
       "      <th>MAE for z</th>\n",
       "      <td>[802.55, 50.39]</td>\n",
       "      <td>[724.76, 58.8]</td>\n",
       "      <td>[809.87, 73.17]</td>\n",
       "      <td>[823.49, 74.28]</td>\n",
       "    </tr>\n",
       "    <tr>\n",
       "      <th>MAE for tx</th>\n",
       "      <td>[0.01, 0.0]</td>\n",
       "      <td>[0.01, 0.0]</td>\n",
       "      <td>[0.01, 0.0]</td>\n",
       "      <td>[0.01, 0.0]</td>\n",
       "    </tr>\n",
       "    <tr>\n",
       "      <th>MAE for ty</th>\n",
       "      <td>[0.01, 0.0]</td>\n",
       "      <td>[0.01, 0.0]</td>\n",
       "      <td>[0.01, 0.0]</td>\n",
       "      <td>[0.01, 0.0]</td>\n",
       "    </tr>\n",
       "  </tbody>\n",
       "</table>\n",
       "</div>"
      ],
      "text/plain": [
       "                   Mix Emulsion          HDBSCAN        Equal Mix  \\\n",
       "Metric                                                              \n",
       "good_showers       [0.86, 0.03]     [0.69, 0.06]     [0.86, 0.03]   \n",
       "stuck_showers       [0.1, 0.04]     [0.16, 0.09]     [0.11, 0.04]   \n",
       "broken_showers     [0.03, 0.01]     [0.14, 0.04]     [0.03, 0.01]   \n",
       "lost_showers         [0.0, 0.0]       [0.0, 0.0]       [0.0, 0.0]   \n",
       "MAE for x        [154.01, 9.28]  [146.81, 13.95]  [153.72, 12.13]   \n",
       "MAE for y       [151.06, 10.21]  [147.01, 12.95]  [153.88, 11.45]   \n",
       "MAE for z       [802.55, 50.39]   [724.76, 58.8]  [809.87, 73.17]   \n",
       "MAE for tx          [0.01, 0.0]      [0.01, 0.0]      [0.01, 0.0]   \n",
       "MAE for ty          [0.01, 0.0]      [0.01, 0.0]      [0.01, 0.0]   \n",
       "\n",
       "                       Mix Edge  \n",
       "Metric                           \n",
       "good_showers       [0.87, 0.02]  \n",
       "stuck_showers       [0.1, 0.03]  \n",
       "broken_showers     [0.03, 0.01]  \n",
       "lost_showers         [0.0, 0.0]  \n",
       "MAE for x        [154.63, 13.8]  \n",
       "MAE for y       [156.47, 13.16]  \n",
       "MAE for z       [823.49, 74.28]  \n",
       "MAE for tx          [0.01, 0.0]  \n",
       "MAE for ty          [0.01, 0.0]  "
      ]
     },
     "execution_count": 16,
     "metadata": {},
     "output_type": "execute_result"
    }
   ],
   "source": [
    "df"
   ]
  },
  {
   "cell_type": "markdown",
   "metadata": {},
   "source": [
    "# Cross-validation performance of networks trained on different train datas"
   ]
  },
  {
   "cell_type": "code",
   "execution_count": null,
   "metadata": {},
   "outputs": [],
   "source": [
    "experiments_names = ['clust-cross', 'test-hypo']\n",
    "\n",
    "experiments = []\n",
    "for i in range(len(experiments_names)):\n",
    "    experiments.append(comet_api.get(workspace='ketrint', project_name=experiments_names[i]))\n",
    "    \n",
    "experiments = [item for sublist in experiments for item in sublist]"
   ]
  },
  {
   "cell_type": "code",
   "execution_count": null,
   "metadata": {},
   "outputs": [],
   "source": [
    "len(experiments)"
   ]
  },
  {
   "cell_type": "code",
   "execution_count": null,
   "metadata": {},
   "outputs": [],
   "source": [
    "experiments[23].get_command()"
   ]
  },
  {
   "cell_type": "code",
   "execution_count": null,
   "metadata": {},
   "outputs": [],
   "source": [
    "for exp in experiments: \n",
    "    if exp.get_command()[2] == './data_new/data/rand_preprocessed.pt':\n",
    "        if exp.get_command()[-15].split('_')[2] == '200':\n",
    "            key = '200_rand'\n",
    "            get_data(key)\n",
    "        if exp.get_command()[-15].split('_')[2] == '50':\n",
    "            key = '50_rand'\n",
    "            get_data(key)           \n",
    "    else:\n",
    "        if exp.get_command()[-19].split('_')[2] == 'rand' and exp.get_command()[-13] == '50':  \n",
    "            key = 'rand_50'\n",
    "            get_data(key)\n",
    "        elif exp.get_command()[-19].split('_')[2] == 'rand' and exp.get_command()[-13] == '200':\n",
    "            key = 'rand_200'\n",
    "            get_data(key)\n",
    "        elif exp.get_command()[-19].split('_')[2] == '200' and exp.get_command()[-13] == '200':      \n",
    "            key = '200_200'\n",
    "            get_data(key)\n",
    "        elif exp.get_command()[-19].split('_')[2] == '200' and exp.get_command()[-13] == '50':      \n",
    "            key = '200_50'\n",
    "            get_data(key)\n",
    "        elif exp.get_command()[-19].split('_')[2] == '50' and exp.get_command()[-13] == '50':      \n",
    "            key = '50_50'\n",
    "            get_data(key)\n",
    "        elif exp.get_command()[-19].split('_')[2] == '50' and exp.get_command()[-13] == '200':      \n",
    "            key = '50_200'\n",
    "            get_data(key)\n",
    "        elif exp.get_command()[-19].split('_')[2] == '50' and exp.get_command()[-13] == '200':      \n",
    "            key = '50_200'\n",
    "            get_data(key)"
   ]
  },
  {
   "cell_type": "code",
   "execution_count": null,
   "metadata": {},
   "outputs": [],
   "source": [
    "dict_list = [good_showers, stuck_showers, \n",
    "                   broken_showers, lost_showers, \n",
    "                   x, y, z, tx, ty]"
   ]
  },
  {
   "cell_type": "code",
   "execution_count": null,
   "metadata": {},
   "outputs": [],
   "source": [
    "dict_names = ['good_showers', 'stuck_showers', \n",
    "                   'broken_showers', 'lost_showers', \n",
    "                   'MAE for x', 'MAE for y', 'MAE for z', 'MAE for tx', 'MAE for ty']"
   ]
  },
  {
   "cell_type": "code",
   "execution_count": null,
   "metadata": {},
   "outputs": [],
   "source": [
    "for dictionary in dict_list:\n",
    "    for key in dictionary: \n",
    "        dictionary[key] = [np.round(np.mean(dictionary[key])*100,2), \n",
    "                           np.round(np.std(dictionary[key])*100,2)]"
   ]
  },
  {
   "cell_type": "code",
   "execution_count": null,
   "metadata": {},
   "outputs": [],
   "source": [
    "df = pd.DataFrame.from_dict(dict_list)"
   ]
  },
  {
   "cell_type": "code",
   "execution_count": null,
   "metadata": {},
   "outputs": [],
   "source": [
    "df = df.assign(Metric = dict_names)"
   ]
  },
  {
   "cell_type": "code",
   "execution_count": null,
   "metadata": {},
   "outputs": [],
   "source": [
    "df = df.set_index('Metric') "
   ]
  },
  {
   "cell_type": "code",
   "execution_count": null,
   "metadata": {},
   "outputs": [],
   "source": [
    "df"
   ]
  },
  {
   "cell_type": "code",
   "execution_count": null,
   "metadata": {},
   "outputs": [],
   "source": []
  }
 ],
 "metadata": {
  "kernelspec": {
   "display_name": "Python 3",
   "language": "python",
   "name": "python3"
  },
  "language_info": {
   "codemirror_mode": {
    "name": "ipython",
    "version": 3
   },
   "file_extension": ".py",
   "mimetype": "text/x-python",
   "name": "python",
   "nbconvert_exporter": "python",
   "pygments_lexer": "ipython3",
   "version": "3.8.3"
  }
 },
 "nbformat": 4,
 "nbformat_minor": 4
}
