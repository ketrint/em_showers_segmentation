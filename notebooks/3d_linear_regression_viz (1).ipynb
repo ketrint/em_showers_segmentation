{
 "cells": [
  {
   "cell_type": "markdown",
   "metadata": {},
   "source": [
    "# 3D linear regression vizualization"
   ]
  },
  {
   "cell_type": "code",
   "execution_count": 1,
   "metadata": {},
   "outputs": [],
   "source": [
    "import numpy as np\n",
    "import pandas as pd\n",
    "from scipy import stats\n",
    "import seaborn as sns\n",
    "import matplotlib.pyplot as plt\n",
    "from sklearn.preprocessing import QuantileTransformer\n",
    "from sklearn.linear_model import LinearRegression, HuberRegressor\n",
    "from tqdm import tqdm\n",
    "\n",
    "import xgboost as xgb\n",
    "sns.set(context='paper', style=\"whitegrid\", font_scale=2.5, font = 'serif')"
   ]
  },
  {
   "cell_type": "code",
   "execution_count": 2,
   "metadata": {},
   "outputs": [],
   "source": [
    "E_true_rand_test = np.concatenate([np.load(f'../new_data/new_data/E_pure_em_test_{i}.npy') for i in [1, 2, 3]])\n",
    "\n",
    "E_pred_rand_test = np.concatenate([np.load(f'../new_data/new_data/e_pure_em_test_{i}.npy') for i in [1, 2, 3]])\n",
    "\n",
    "z_rand_test = np.concatenate([np.load(f'../new_data/new_data/z_pure_em_test_{i}.npy') for i in [1, 2, 3]])"
   ]
  },
  {
   "cell_type": "code",
   "execution_count": 3,
   "metadata": {},
   "outputs": [],
   "source": [
    "import statsmodels.api as sm\n",
    "X = np.column_stack([E_pred_rand_test])\n",
    "X = sm.add_constant(X)\n",
    "rlm_model = sm.RLM(E_true_rand_test, X, M=sm.robust.norms.HuberT())\n",
    "ols = rlm_model.fit()"
   ]
  },
  {
   "cell_type": "code",
   "execution_count": 4,
   "metadata": {},
   "outputs": [
    {
     "data": {
      "text/html": [
       "<table class=\"simpletable\">\n",
       "<tr>\n",
       "        <td>Model:</td>               <td>RLM</td>       <td>Df Residuals:</td>  <td>13279</td> \n",
       "</tr>\n",
       "<tr>\n",
       "  <td>Dependent Variable:</td>         <td>y</td>            <td>Norm:</td>     <td>HuberT</td> \n",
       "</tr>\n",
       "<tr>\n",
       "         <td>Date:</td>        <td>2021-10-14 18:26</td>  <td>Scale Est.:</td>    <td>mad</td>  \n",
       "</tr>\n",
       "<tr>\n",
       "   <td>No. Observations:</td>        <td>13281</td>       <td>Cov. Type:</td>     <td>H1</td>   \n",
       "</tr>\n",
       "<tr>\n",
       "       <td>Df Model:</td>              <td>1</td>           <td>Scale:</td>     <td>0.91046</td>\n",
       "</tr>\n",
       "</table>\n",
       "<table class=\"simpletable\">\n",
       "<tr>\n",
       "    <td></td>     <th>Coef.</th> <th>Std.Err.</th>     <th>z</th>     <th>P>|z|</th> <th>[0.025</th> <th>0.975]</th>\n",
       "</tr>\n",
       "<tr>\n",
       "  <th>const</th> <td>0.5234</td>  <td>0.0146</td>   <td>35.8605</td> <td>0.0000</td> <td>0.4948</td> <td>0.5520</td>\n",
       "</tr>\n",
       "<tr>\n",
       "  <th>x1</th>    <td>0.0346</td>  <td>0.0001</td>  <td>491.9116</td> <td>0.0000</td> <td>0.0344</td> <td>0.0347</td>\n",
       "</tr>\n",
       "</table>"
      ],
      "text/plain": [
       "<class 'statsmodels.iolib.summary2.Summary'>\n",
       "\"\"\"\n",
       "               Results: Robust linear model\n",
       "==========================================================\n",
       "Model:              RLM              Df Residuals: 13279  \n",
       "Dependent Variable: y                Norm:         HuberT \n",
       "Date:               2021-10-14 18:26 Scale Est.:   mad    \n",
       "No. Observations:   13281            Cov. Type:    H1     \n",
       "Df Model:           1                Scale:        0.91046\n",
       "-----------------------------------------------------------\n",
       "         Coef.   Std.Err.     z      P>|z|   [0.025  0.975]\n",
       "-----------------------------------------------------------\n",
       "const    0.5234    0.0146   35.8605  0.0000  0.4948  0.5520\n",
       "x1       0.0346    0.0001  491.9116  0.0000  0.0344  0.0347\n",
       "==========================================================\n",
       "\n",
       "\"\"\""
      ]
     },
     "execution_count": 4,
     "metadata": {},
     "output_type": "execute_result"
    }
   ],
   "source": [
    "ols.summary2()"
   ]
  },
  {
   "cell_type": "code",
   "execution_count": 5,
   "metadata": {},
   "outputs": [],
   "source": [
    "E_pred_rlm = ols.predict(X)"
   ]
  },
  {
   "cell_type": "code",
   "execution_count": 6,
   "metadata": {},
   "outputs": [],
   "source": [
    "x = E_pred_rand_test\n",
    "y = z_rand_test\n",
    "z = E_true_rand_test"
   ]
  },
  {
   "cell_type": "code",
   "execution_count": 7,
   "metadata": {},
   "outputs": [],
   "source": [
    "sns.set(context='paper', style=\"whitegrid\", font_scale=2.5, font = 'serif')"
   ]
  },
  {
   "cell_type": "code",
   "execution_count": 8,
   "metadata": {},
   "outputs": [],
   "source": [
    "idx_sort = np.argsort(E_true_rand_test)\n",
    "E_true_rand_test = E_true_rand_test[idx_sort]\n",
    "E_pred_rand_test = E_pred_rand_test[idx_sort]"
   ]
  },
  {
   "cell_type": "code",
   "execution_count": 9,
   "metadata": {},
   "outputs": [],
   "source": [
    "bins = 20\n",
    "\n",
    "pred_test_bins = []\n",
    "truth_test_bins = []\n",
    "arange = np.arange(len(E_true_rand_test))\n",
    "for idx in np.array_split(np.arange(len(E_true_rand_test), dtype=np.int64), bins):\n",
    "# for idx in np.array_split(arange, np.logspace(5, np.log(len(truth_train)), bins, base=np.e).astype(int)):\n",
    "    pred_test_bins.append(E_pred_rand_test[idx])\n",
    "    truth_test_bins.append(E_true_rand_test[idx])"
   ]
  },
  {
   "cell_type": "code",
   "execution_count": 10,
   "metadata": {},
   "outputs": [],
   "source": [
    "x_ref = sm.add_constant(np.linspace(0, 600))\n",
    "y_ref = ols.predict(x_ref)"
   ]
  },
  {
   "cell_type": "code",
   "execution_count": 11,
   "metadata": {},
   "outputs": [
    {
     "data": {
      "image/png": "[encoded data removed]",
      "text/plain": [
       "<Figure size 1400x800 with 1 Axes>"
      ]
     },
     "metadata": {},
     "output_type": "display_data"
    }
   ],
   "source": [
    "fig, ax = plt.subplots(nrows=1, ncols=1, figsize=(14, 8), dpi=100)\n",
    "\n",
    "color = 'b'\n",
    "\n",
    "plt.grid(True)\n",
    "axes = plt.gca()\n",
    "\n",
    "mean_y = np.array([np.mean(b) for b in truth_test_bins])\n",
    "mean_x = np.array([np.mean(b) for b in pred_test_bins])\n",
    "std_y  = np.array([np.std(b) for b in truth_test_bins])\n",
    "std_x  = np.array([np.std(b) for b in pred_test_bins])\n",
    "\n",
    "plt.scatter(mean_x, mean_y)\n",
    "\n",
    "plt.errorbar(mean_x, mean_y, xerr=std_x, yerr=std_y, fmt='none', ecolor=color, alpha=0.5)\n",
    "\n",
    "plt.plot(x_ref[:, 1], y_ref, color='r', label='')\n",
    "\n",
    "# plt.title('Energy versus number of tracklets')\n",
    "plt.xlabel('Number of tracklets')\n",
    "plt.ylabel('Energy of electron')\n",
    "\n",
    "plt.savefig(\"linear_regression.pdf\", bbox_inches='tight')\n",
    "\n",
    "plt.show()"
   ]
  },
  {
   "cell_type": "code",
   "execution_count": null,
   "metadata": {},
   "outputs": [],
   "source": []
  },
  {
   "cell_type": "code",
   "execution_count": null,
   "metadata": {},
   "outputs": [],
   "source": [
    "plt.hist((E_pred_rlm - E_true_rand_test) / E_true_rand_test, range=(-5, 5), bins=100);"
   ]
  },
  {
   "cell_type": "code",
   "execution_count": null,
   "metadata": {},
   "outputs": [],
   "source": [
    "E_true_rand_test"
   ]
  },
  {
   "cell_type": "code",
   "execution_count": null,
   "metadata": {},
   "outputs": [],
   "source": [
    "fig, ax = plt.subplots(nrows=1, ncols=1, figsize=(12, 8), dpi=100)\n",
    "\n",
    "color='r'\n",
    "\n",
    "plt.grid(True)\n",
    "axes = plt.gca()\n",
    "\n",
    "mean_x = np.array([np.mean(b) for b in truth_test_bins])\n",
    "mean_y = np.array([np.mean(b) for b in pred_test_bins])\n",
    "std_x  = np.array([np.std(b) for b in truth_test_bins])\n",
    "std_y  = np.array([np.std(b) for b in pred_test_bins])\n",
    "\n",
    "plt.scatter(mean_x, mean_y)\n",
    "\n",
    "plt.errorbar(mean_x, mean_y, xerr=std_x, yerr=std_y, fmt='none', ecolor=color, alpha=0.5)\n",
    "\n",
    "plt.title('Energy versus number of tracklets')\n",
    "plt.xlabel('Number of tracklets')\n",
    "plt.xlabel('Energy of electron')\n",
    "\n",
    "plt.show()"
   ]
  },
  {
   "cell_type": "code",
   "execution_count": null,
   "metadata": {},
   "outputs": [],
   "source": [
    "ols = sm.RLM(E_true_rand_test, X, M=sm.robust.norms.HuberT())\n",
    "model = rlm_model.fit()\n",
    "predicted = model.predict(model_viz)"
   ]
  },
  {
   "cell_type": "code",
   "execution_count": null,
   "metadata": {},
   "outputs": [],
   "source": [
    "x_pred = np.linspace(0, 2000, 40)   # range of porosity values"
   ]
  },
  {
   "cell_type": "code",
   "execution_count": null,
   "metadata": {},
   "outputs": [],
   "source": [
    "sns.set(context='paper', style=\"whitegrid\", font_scale=2., font = 'serif')\n",
    "\n",
    "x_pred = np.linspace(0, 2000, 40)   # range of porosity values\n",
    "y_pred = np.linspace(-0.4, 0.2, 40)  # range of brittleness values\n",
    "xx_pred, yy_pred = np.meshgrid(x_pred, y_pred)\n",
    "model_viz = np.array([xx_pred.flatten(), yy_pred.flatten()]).T\n",
    "model_viz = sm.add_constant(model_viz)\n",
    "\n",
    "################################################ Train #############################################\n",
    "\n",
    "ols = sm.RLM(E_true_rand_test, X, M=sm.robust.norms.HuberT())\n",
    "model = rlm_model.fit()\n",
    "predicted = model.predict(model_viz)\n",
    "\n",
    "############################################## Evaluate ############################################\n",
    "\n",
    "r2 = 0 # model.score(X, Y)\n",
    "\n",
    "############################################## Plot ################################################\n",
    "\n",
    "fig = plt.figure(figsize=(18, 12), dpi=100)\n",
    "\n",
    "ax1 = fig.add_subplot(131, projection='3d')\n",
    "ax2 = fig.add_subplot(132, projection='3d')\n",
    "ax3 = fig.add_subplot(133, projection='3d')\n",
    "\n",
    "axes = [ax1, ax2, ax3]\n",
    "\n",
    "for ax in axes:\n",
    "    ax.plot(x, y, z, color='r', zorder=15, linestyle='none', marker='o', alpha=0.5)\n",
    "    ax.scatter(xx_pred.flatten(), yy_pred.flatten(), predicted, facecolor=(0, 0, 0, 0), s=20, edgecolor='#70b3f0')\n",
    "    ax.set_xlabel('Number of tracks', labelpad=15)\n",
    "    ax.set_ylabel('z-coordinate', labelpad=15)\n",
    "    #if ax != ax3:\n",
    "    ax.set_zlabel('Energy', labelpad=15)\n",
    "    ax.locator_params(tight=True, nbins=5, axis='x')\n",
    "    ax.locator_params(tight=True, nbins=5, axis='y')\n",
    "\n",
    "ax1.view_init(elev=20, azim=-120)\n",
    "ax2.view_init(elev=20, azim=114)\n",
    "# ax3.view_init(elev=-20, azim=180)\n",
    "# ax3.view_init(elev=40, azim=0)\n",
    "ax3.view_init(elev=20, azim=-165)\n",
    "\n",
    "# fig.suptitle('$R^2 = %.2f$' % r2, fontsize=20)\n",
    "\n",
    "fig.tight_layout(pad=2)\n",
    "fig.savefig(\"linear_regression_energy_reco.pdf\", bbox_inches = 'tight',\n",
    "    pad_inches = 0)"
   ]
  },
  {
   "cell_type": "code",
   "execution_count": null,
   "metadata": {},
   "outputs": [],
   "source": [
    "x = E_pred_rand_test\n",
    "y = z_rand_test\n",
    "z = E_true_rand_test"
   ]
  },
  {
   "cell_type": "code",
   "execution_count": null,
   "metadata": {},
   "outputs": [],
   "source": [
    "model.summary()"
   ]
  },
  {
   "cell_type": "code",
   "execution_count": null,
   "metadata": {},
   "outputs": [],
   "source": [
    "summary = model.summary2()"
   ]
  },
  {
   "cell_type": "code",
   "execution_count": null,
   "metadata": {},
   "outputs": [],
   "source": [
    "fig = plt.figure(figsize=(24, 8), dpi=100)\n",
    "\n",
    "ax1 = fig.add_subplot(131)\n",
    "ax2 = fig.add_subplot(132)\n",
    "axes = [ax1, ax2]\n",
    "\n",
    "ax = ax1\n",
    "ax.plot(x, z, color='r', linestyle='none', marker='o', alpha=0.05)\n",
    "xx = np.linspace(x.min(), x.max(), 1000)\n",
    "zz = model.params[0] + model.params[1] * xx\n",
    "ax.scatter(xx, zz, facecolor=(0, 0, 0, 0), edgecolor='#70b3f0', zorder=15)\n",
    "ax.set_xlabel('Number of tracks', labelpad=15)\n",
    "ax.set_ylabel('Energy', labelpad=15)\n",
    "ax.locator_params(tight=True, nbins=5, axis='x')\n",
    "ax.locator_params(tight=True, nbins=5, axis='y')\n",
    "\n",
    "ax = ax2\n",
    "ax.plot(y * 1e5 + 37506, z, color='r', linestyle='none', marker='o', alpha=0.05)\n",
    "yy = np.linspace(y.min(), y.max(), 1000)\n",
    "zz = model.params[0] + model.params[2] * yy\n",
    "ax.scatter(yy * 1e5 + 37506, zz, facecolor=(0, 0, 0, 0), edgecolor='#70b3f0', zorder=15)\n",
    "ax.set_xlabel('z-coordinate', labelpad=15)\n",
    "ax.set_ylabel('Energy', labelpad=15)\n",
    "\n",
    "\n",
    "# fig.suptitle('$R^2 = %.2f$' % r2, fontsize=20)\n",
    "\n",
    "fig.tight_layout(pad=2)\n",
    "fig.savefig(\"linear_regression_energy_reco_2d.pdf\", bbox_inches = 'tight', pad_inches = 0)"
   ]
  },
  {
   "cell_type": "code",
   "execution_count": null,
   "metadata": {},
   "outputs": [],
   "source": []
  },
  {
   "cell_type": "code",
   "execution_count": null,
   "metadata": {},
   "outputs": [],
   "source": []
  },
  {
   "cell_type": "code",
   "execution_count": null,
   "metadata": {},
   "outputs": [],
   "source": [
    "¡"
   ]
  }
 ],
 "metadata": {
  "kernelspec": {
   "display_name": "Python 3",
   "language": "python",
   "name": "python3"
  },
  "language_info": {
   "codemirror_mode": {
    "name": "ipython",
    "version": 3
   },
   "file_extension": ".py",
   "mimetype": "text/x-python",
   "name": "python",
   "nbconvert_exporter": "python",
   "pygments_lexer": "ipython3",
   "version": "3.8.8"
  }
 },
 "nbformat": 4,
 "nbformat_minor": 2
}
